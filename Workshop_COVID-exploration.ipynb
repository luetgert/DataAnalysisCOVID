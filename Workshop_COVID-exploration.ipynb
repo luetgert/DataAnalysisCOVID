{
 "cells": [
  {
   "cell_type": "markdown",
   "metadata": {},
   "source": [
    "## This notebook explores COVID 19 Canadian Epidemiology Data\n",
    "\n",
    "\n",
   ]
  },
  {
   "cell_type": "markdown",
   "metadata": {},
   "source": [
    "### 1 Data exploration\n",
    "Today we will turn to using our knowledge of Python to work with data. This is an exciting step because we will learn to take data (of any size or shape!) and open it up to understand and visualize the information inside. We can observe trends and patterns over time, test our hypotheses about how thing work and identify empirical evidence to support or refute our claims. We will begin with two important libraries in Python- pandas and plotly. Pandas will give us the ability to frame inputed vectors of information as a data frame. In other words, we do not have disjointed vectors of information (or labelled lists), we can conceive of these as representing features, or describing characteristics/ independent variables, that are pasted together in one data frame. In a data frame, the columns are these features, the rows are the observations, or individuals in our sample. We will then use plotly to visualize some of our data trends. Today we look first at individuals with COVID19 symptoms in Canada."
   ]
  },
  {
   "cell_type": "code",
   "execution_count": null,
   "metadata": {},
   "outputs": [],
   "source": [
    "#First, let's import the libraries that we will be using. Pandas to set the dataframe. Plotly to visualize data.\n",
    "import pandas as pd\n",
    "import plotly.express as px"
   ]
  },
  {
   "cell_type": "code",
   "execution_count": null,
   "metadata": {},
   "outputs": [],
   "source": [
    "covid_file = \"COVID19-eng.csv\"\n",
    "covid_df = pd.read_csv(covid_file)\n",
    "covid_df.head()"
   ]
  },
  {
   "cell_type": "code",
   "execution_count": null,
   "metadata": {},
   "outputs": [],
   "source": [
    "# get familiar with the data, identify column headers\n",
    "covid_df.columns"
   ]
  },
  {
   "cell_type": "code",
   "execution_count": null,
   "metadata": {},
   "outputs": [],
   "source": [
    "# How clean is the data? i.e. are there any missing values?\n",
    "covid_df.info()"
   ]
  },
  {
   "cell_type": "code",
   "execution_count": null,
   "metadata": {},
   "outputs": [],
   "source": [
    "#Alternative look at missings\n",
    "covid_df.isna().sum()\n",
    "\n",
    "#If we wanted to drop variables with missing values\n",
    "#covid_df=covid_df.dropna()"
   ]
  },
  {
   "cell_type": "code",
   "execution_count": null,
   "metadata": {},
   "outputs": [],
   "source": [
    "# Let's get some quick stats\n",
    "covid_df.describe()"
   ]
  },
  {
   "cell_type": "code",
   "execution_count": null,
   "metadata": {},
   "outputs": [],
   "source": [
    "#Let's transpose the table to make it easier to read\n",
    "covid_df.describe().transpose()"
   ]
  },
  {
   "cell_type": "markdown",
   "metadata": {},
   "source": [
    "## Region: \n",
    "\n",
    "1 = Atlantic (New Brunswick, Nova Scotia, Prince Edward Island, Newfoundland and Labrador), \n",
    "\n",
    "2 = Quebec, \n",
    "\n",
    "3 = Ontario and Nunavut, \n",
    "\n",
    "4 = Prairies (Alberta, Saskatchewan, and Manitoba) and the Northwest Territories, \n",
    "\n",
    "5 = British Columbia and Yukon.\n",
    "\n",
    "\n",
    "## Gender codes: \n",
    "\n",
    "1 = Male, 2 = Female, 9 = Not stated. \n",
    "\n",
    "These values are corrected as the Public Health Agency of Canada (PHAC) receives new information. It should be noted that the French form uses the term 'sex' contrary to the English form that uses the term 'gender'. In the context of this table, the term gender is also used in French. The cases that have reported 'other' for sex or 'non-binary' for gender have been reclassified as 'not stated' gender.\n",
    "\n",
    "## Age group codes: \n",
    "\n",
    "1 = 0 to 19 years, \n",
    "\n",
    "2 = 20 to 29 years, \n",
    "\n",
    "3 = 30 to 39 years, \n",
    "\n",
    "4 = 40 to 49 years, \n",
    "\n",
    "5 = 50 to 59 years, \n",
    "\n",
    "6 = 60 to 69 years, \n",
    "\n",
    "7 = 70 to 79 years, \n",
    "\n",
    "8 = 80 years or older, \n",
    "\n",
    "99 = Not stated. \n",
    "\n",
    "These values are corrected as the Public Health Agency of Canada (PHAC) receives new information.\n",
    "\n",
    "## Asymptomatic:\n",
    "\n",
    "1=  Yes, 2  = No, 9 = Not Stated.\n",
    "\n",
    "## Symptom: \n",
    "\n",
    "1 = Yes, 2 = No, 9 = Not Stated/Unknown.\n",
    "\n",
    "## Hospitalization status: \n",
    "\n",
    "1 = Hospitalized and in Intensive care unit \n",
    "\n",
    "2 = Hospitalized, but not in intensive care unit, \n",
    "\n",
    "3= Not hospitalized, \n",
    "\n",
    "9 = Not Stated/Unknown.\n",
    "\n",
    "## Death: \n",
    "\n",
    "1 = Yes, 2 = No,  9 = Not stated.\n",
    "\n",
    "## Transmission: \n",
    "\n",
    "1 = Domestic acquisition - Contact of COVID case, contact with traveller, or unknown source, 2 = International travel, 9 = Not stated."
   ]
  },
  {
   "cell_type": "markdown",
   "metadata": {},
   "source": [
    "### 2 Answering questions of interest\n",
    "\n",
    "How many women in BC or Yukon aged 50 or older had symptoms? Here we will subset the data, or build a smaller data set based on conditions that we expect to be fulfilled. We will then gather information on this smaller sample of COVID19 patients. Note that our data set will include fewer observations (only selected individuals) as well as few variables as we select the features that we wish to retain. We are not overwriting our dataframe! We will create a new one based on our selected observations and features."
   ]
  },
  {
   "cell_type": "code",
   "execution_count": null,
   "metadata": {},
   "outputs": [],
   "source": [
    "# Gender, Age group, Region, Asymptomatic column\n",
    "# >= greater than or equal to\n",
    "# <= less than or equal to\n",
    "# == exactly equal to (remember = expresses identity, == is used when expressing a condition to be met)\n",
    "# != different from\n",
    "age_condition = (covid_df[\"Age group\"] >= 5) & (covid_df['Age group'] !=99)\n",
    "region_condition = covid_df['Region'] == 5\n",
    "gender_condition = covid_df['Gender'] == 2\n",
    "symptom_condition = covid_df['Asymptomatic'] == 2\n",
    "subset_question = covid_df[(age_condition) & (region_condition) & (gender_condition) & (symptom_condition)]"
   ]
  },
  {
   "cell_type": "code",
   "execution_count": null,
   "metadata": {},
   "outputs": [],
   "source": [
    "#From the data frame subset_question (Women over 50 in BC and Yukon), show features symptom, pain and symptom, fever\n",
    "subset_question[[\"Symptom, pain\", \"Symptom, fever\"]]"
   ]
  },
  {
   "cell_type": "code",
   "execution_count": null,
   "metadata": {},
   "outputs": [],
   "source": [
    "subset_question.columns"
   ]
  },
  {
   "cell_type": "code",
   "execution_count": null,
   "metadata": {},
   "outputs": [],
   "source": [
    "#In order to select only those features that are of interest to us (here the symptoms), we will \n",
    "#designate a variable that is a list of subset of questions that we are interested in based on the\n",
    "#position of those desired features in the original list. Note that : prior to the comma indicates\n",
    "#we will slice all rows, but 11:24 indicates we will take only those columns of information.\n",
    "\n",
    "symptom_subset = subset_question.iloc[: , 11:24]\n",
    "\n",
    "#let's see what this did\n",
    "symptom_subset.columns"
   ]
  },
  {
   "cell_type": "code",
   "execution_count": null,
   "metadata": {},
   "outputs": [],
   "source": [
    "# Now we will create variables, which will include only those individuals where the symptom was present\n",
    "# We then display our sliced sample with selected features and only those individuals who had fever and headache\n",
    "fever = symptom_subset[\"Symptom, fever\"]==1\n",
    "headache = symptom_subset['Symptom, headache']==1\n",
    "symptom_subset[(fever) & (headache)]"
   ]
  },
  {
   "cell_type": "code",
   "execution_count": null,
   "metadata": {},
   "outputs": [],
   "source": [
    "#Note that we could have writen those conditions directly into our subset definition rather than using variables\n",
    "#as above to capture the conditions. Either approach will result in the same output.\n",
    "#We have a subset of data including women over 50 from BC and Yukon, who experienced fever and headache\n",
    "symptom_subset[ (symptom_subset['Symptom, fever']==1) & ( symptom_subset['Symptom, headache'] ==1)]"
   ]
  },
  {
   "cell_type": "markdown",
   "metadata": {},
   "source": [
    "### 3 Visualizing\n",
    "Python includes many libraries for visualizing data. The most basic library is matplotlib. The seaborn library includes more detailed display options and presets for several common plot types. Here we explore plotly. This library (along with Bokeh) offers us exceptional interactive data plots with features such as hover points to help our readers interact and understand our data visualizations. Below, we will define the figure, set the labels and title and show the figure. Note that we are saving the plot as an html file to protect the interactive nature of this plot for sharing with others. We could also save it as a static plot if we needed it for a print document. For a complete explanation of the plotly library, please refer to the documentation https://plotly.com/python/"
   ]
  },
  {
   "cell_type": "code",
   "execution_count": null,
   "metadata": {},
   "outputs": [],
   "source": [
    "visualize_data = symptom_subset[ (symptom_subset['Symptom, fever']==1) & ( symptom_subset['Symptom, headache'] ==1)]\n",
    "\n",
    "fig = px.scatter(x=visualize_data.index, y=\"Symptom, nausea\",data_frame=visualize_data,\n",
    "          title=\"People who reported fever, headache and nausea\",\n",
    "          labels= {\"x\":\"Patient ID\"}, hover_name=\"Symptom, nausea\")\n",
    "\n",
    "fig.write_html(\"Plot_fever_headache_nausea.html\")\n",
    "fig.show()"
   ]
  },
  {
   "cell_type": "markdown",
   "metadata": {},
   "source": [
    "### 4 Final conclusions\n",
    "\n",
    "We observed that about 300 women over 50 in BC and in Yukon reported having COVID. Of those women, who reported fever and headache, this plot reveals that most also reported nausea. Remember that 1 indicates symptom present, 2 indicates symptom not present, and 9 indicates unknown/ not recorded\n"
   ]
  },
  {
   "cell_type": "code",
   "execution_count": null,
   "metadata": {},
   "outputs": [],
   "source": []
  }
 ],
 "metadata": {
  "kernelspec": {
   "display_name": "Python 3",
   "language": "python",
   "name": "python3"
  },
  "language_info": {
   "codemirror_mode": {
    "name": "ipython",
    "version": 3
   },
   "file_extension": ".py",
   "mimetype": "text/x-python",
   "name": "python",
   "nbconvert_exporter": "python",
   "pygments_lexer": "ipython3",
   "version": "3.7.9"
  }
 },
 "nbformat": 4,
 "nbformat_minor": 4
}
